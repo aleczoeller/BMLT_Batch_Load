{
 "cells": [
  {
   "cell_type": "markdown",
   "metadata": {},
   "source": [
    "This workflow is written to pull meetings data from a table, format all the meeting information,\n",
    "and remotely insert it into BMLT MySQL database set up as new.  For testing, I manually entered\n",
    "several meetings and queried them from the connections set up below in order to get the process\n",
    "right. \n",
    "\n",
    "In order to enable remote SQL connections, you need to add your IP address under cPanel/Remote MySQL under the Advanced cPanel section. You can run an ipconfig command in command shell or Google what is my IP to get that - please note that your IP address might get changed each time you connect to a router, so you might want to use a wildcard % (so if your home is 222.333.23.213 you might put 222.333.23.%).  \n",
    "\n",
    "The data you have might be in an Excel or CSV table, if so see the Pandas functions read_csv or\n",
    "read_excel in order to pull into a DataFrame.  In my case, I had everything as a JSON saved on \n",
    "our website as a JavaScript file. I pull this, convert it, and insert it into the BMLT server.\n",
    "\n",
    "Use freely, hopefully some portion of this might be helpful - if only pulling data remotely. For \n",
    "assistance, please email aleczoeller at gmail dot com, or call at Nine 1 two, 358 six 5 six 4."
   ]
  },
  {
   "cell_type": "code",
   "execution_count": 6,
   "metadata": {},
   "outputs": [],
   "source": [
    "import MySQLdb\n",
    "import pandas as pd\n",
    "import numpy as np\n",
    "import json\n",
    "import requests\n",
    "import googlemaps\n",
    "from pandas.io.json import json_normalize\n",
    "import sqlalchemy as sa\n",
    "\n",
    "import base64\n",
    "from dotenv import load_dotenv"
   ]
  },
  {
   "cell_type": "code",
   "execution_count": null,
   "metadata": {},
   "outputs": [],
   "source": [
    "#Load environment variables from a .env file.  Update with your specific passwords/keys/sources\n",
    "load_dotenv()\n",
    "GOOGLE_API_KEY = base64.b64decode(os.environ['GOOGLE_API_KEY']).decode('ascii')\n",
    "SITE_ADDRESS = base64.b64decode(os.environ['SEMANTIC_SITE_URL']).decode('ascii')"
   ]
  },
  {
   "cell_type": "code",
   "execution_count": null,
   "metadata": {},
   "outputs": [],
   "source": [
    "#Create connection with cPanel MYSQL database. You have to whitelist your IP address before connecting!\n",
    "engine = sa.create_engine('mysql+pymysql://<cpanel_username>:<password>@<site_ip_address>/<bmlt db name>')"
   ]
  },
  {
   "cell_type": "code",
   "execution_count": null,
   "metadata": {},
   "outputs": [],
   "source": [
    "#Alternate connection with cPanel MYSQL database. You have to whitelist your IP address before connecting!\n",
    "conn = MySQLdb.connect(host='<site_ip_address', user='<cpanel_username',\n",
    "                      passwd='password', db='<bmlt db name')"
   ]
  },
  {
   "cell_type": "code",
   "execution_count": null,
   "metadata": {},
   "outputs": [],
   "source": [
    "#Pull existing table information.  This isn't required, but if you enter a sample meeting can be helpful\n",
    "#in order to visualize target table schema\n",
    "query1 = \"SELECT * FROM `na_comdef_meetings_main` WHERE 1\"\n",
    "query2 = \"SELECT * FROM `na_comdef_meetings_data` WHERE 1\"\n",
    "query3 = \"SELECT * FROM `na_comdef_service_bodies` WHERE 1\"\n",
    "df = pd.read_sql(con=conn, sql=query1)\n",
    "df"
   ]
  },
  {
   "cell_type": "code",
   "execution_count": null,
   "metadata": {},
   "outputs": [],
   "source": [
    "formats = \"SELECT * FROM `na_comdef_formats` WHERE 1\"\n",
    "formats = pd.read_sql(con=conn, sql=formats)"
   ]
  },
  {
   "cell_type": "code",
   "execution_count": null,
   "metadata": {},
   "outputs": [],
   "source": [
    "#Again, not required to check existing tables, but useful in creating this workflow\n",
    "df2 = pd.read_sql(con=conn, sql=query2)\n",
    "df3 = pd.read_sql(con=conn, sql=query3)"
   ]
  },
  {
   "cell_type": "code",
   "execution_count": null,
   "metadata": {},
   "outputs": [],
   "source": [
    "conn.close()"
   ]
  },
  {
   "cell_type": "code",
   "execution_count": null,
   "metadata": {},
   "outputs": [],
   "source": [
    "#My own approach to pulling currently organized meeting information. If table is saved locally,\n",
    "#see pandas read_csv or read_excel methods\n",
    "headers = {'User-Agent': 'Mozilla/5.0 (Macintosh; Intel Mac OS X 10_10_1) AppleWebKit/537.36 (KHTML, like Gecko) Chrome/39.0.2171.95 Safari/537.36'}\n",
    "mdata = requests.get(SITE_ADDRESS, headers=headers)"
   ]
  },
  {
   "cell_type": "code",
   "execution_count": null,
   "metadata": {},
   "outputs": [],
   "source": [
    "mdata = mdata.text[28:].replace('\\n', '').replace('\\/', '/')\n",
    "mdata = json.loads(mdata)"
   ]
  },
  {
   "cell_type": "code",
   "execution_count": null,
   "metadata": {
    "scrolled": true
   },
   "outputs": [],
   "source": [
    "#Meetings are in json format from GET request. Convert to Pandas DataFrame object, and check output\n",
    "meetings = json_normalize(mdata['features'])"
   ]
  },
  {
   "cell_type": "code",
   "execution_count": null,
   "metadata": {
    "scrolled": true
   },
   "outputs": [],
   "source": [
    "#Create dataframes to insert data into database. Use same schema from database\n",
    "init_id = 2 #Add one value to the last meeting entered. If none have been entered, use 1 here.\n",
    "meetings_data = pd.DataFrame({}, columns=df2.columns)\n",
    "meetings_main = pd.DataFrame({}, columns = df.columns)\n",
    "day_dict = {'M':1,'Tu':2, 'W':3, 'Th':4, 'F':5, 'Sa':6, 'Su':0}\n",
    "#Get service bodies (manually entered into BMLT Root Server) from their respective table, as dictionary\n",
    "sbs = dict([[row['name_string'].split(' ')[0], row['id_bigint']] for _, row \n",
    "                in df3.iterrows()])\n",
    "gmaps = googlemaps.Client(key=GOOGLE_API_KEY)\n",
    "for _, meeting in meetings.iterrows():\n",
    "    \n",
    "    #Get formats for meetings in name, from NAWS codes queried above from MySQL database\n",
    "    a = meeting['properties.Group']\n",
    "    fs = []\n",
    "    if '(' in a:\n",
    "        b = a.split('(')[1].split(')')[0]\n",
    "        if 'Men' in b:\n",
    "            fs.append('15')\n",
    "        if 'Women' in b:\n",
    "            fs.append('32')\n",
    "        if 'SS' in b:\n",
    "            fs.append('27')\n",
    "        if 'TS' in b:\n",
    "            fs.append('30')\n",
    "        if 'NS' in b:\n",
    "            fs.append('37')\n",
    "        if 'C' in b and not 'CAN' in b and not 'WC' in b:\n",
    "            fs.append('4')\n",
    "        if 'BT' in b:\n",
    "            fs.append('3')\n",
    "        if not '4' in fs:\n",
    "            fs += ['17','33']   \n",
    "    else:\n",
    "        fs = ['17','33']\n",
    "    \n",
    "    \n",
    "    #Get formatted address and zip codes (not currently tagged) for meeting    \n",
    "    address = meeting['properties.Address'].replace('URS Club ', '')\n",
    "    result = gmaps.geocode(address)\n",
    "    for a in result[0]['address_components']:\n",
    "        if a['types'][0] == 'street_number':\n",
    "            street1 = a['long_name']\n",
    "        if a['types'][0] == 'route':\n",
    "            street2 = a['long_name']\n",
    "        if a['types'][0] == 'locality':\n",
    "            city = a['long_name']\n",
    "        if a['types'][0] == 'administrative_area_level_1':\n",
    "            state = a['short_name']\n",
    "        if a['types'][0] == 'postal_code':\n",
    "            zipcode = a['long_name']\n",
    "    street = ' '.join([street1, street2])\n",
    "    #Get updated format name\n",
    "    mgroup = meeting['properties.Group'].split('(')[0]\n",
    "    mgroup = mgroup[:-1] if mgroup[-1] == ' ' else mgroup\n",
    "    formats_insert = ','.join(fs)\n",
    "    #Get name of building, if any\n",
    "    if meeting['properties.Address'][0].isdigit() and not '1st Baptist' in meeting['properties.Address']:\n",
    "        location1 = ''\n",
    "    elif 'URS' in meeting['properties.Address']:\n",
    "        location1 = 'URS Club'\n",
    "    else:\n",
    "        location1 = meeting['properties.Address'].split(',')[0]\n",
    "        \n",
    "    #Meeting on separate rows will be split into separate rows/entries\n",
    "    if ',' in meeting['properties.Day']:\n",
    "        for day in meeting['properties.Day'].split(','):\n",
    "            a = [init_id, 'meeting_name', 'Meeting Name', 'en', 0.0, mgroup, np.nan, None]\n",
    "            b = [init_id, 'location_text', 'Location Name', 'en', 0.0, location1, np.nan, None]\n",
    "            c = [init_id, 'location_street', 'Street Address', 'en', 0.0, street, np.nan, None]\n",
    "            d = [init_id, 'location_municipality', 'Town', 'en', 0.0, city, np.nan, None]\n",
    "            e = [init_id, 'location_province', 'State', 'en', 0.0, state, np.nan, None]\n",
    "            f = [init_id, 'location_postal_code_1', 'Zip Code', 'en', 0.0, int(zipcode), np.nan, None]\n",
    "            g = [init_id, 'location_nation', 'Nation', 'en', 0.0, 'USA', np.nan, None]\n",
    "            for newline in [a,b,c,d,e,f,g]:\n",
    "                meetings_data.loc[len(meetings_data), :] = newline\n",
    "            #Insert meeting info as single line into second table\n",
    "            t = meeting['properties.Time']\n",
    "            if t[:4].lower() == 'noon':\n",
    "                startt = '12:00:00'\n",
    "            elif t[2] == '3':\n",
    "                hour = str(12 + int(t[0])) if int(t[:1].replace(':', '')) < 10 else t[:1]\n",
    "                startt = '{}:30:00'.format(hour)\n",
    "            elif t[3]== '3':  #Irregular times here\n",
    "                hour = str(12+int(t[0])) if int(t[:1].replace(':', '')) < 10 else t[:1]\n",
    "                minute = t.split(' ')[0].split(':')[1]\n",
    "                startt = '{0}:{1}:00'.format(hour, minute)\n",
    "            else:\n",
    "                hour = str(12+int(t[0])) if int(t[:1].replace(':', '')) < 10 else t[:1]\n",
    "                startt = '{}:00:00'.format(hour)\n",
    "            serviceb = sbs[meeting['properties.Area']] if meeting['properties.Area'] in sbs.keys() else 6\n",
    "            newline = [init_id, None, None, serviceb, day_dict[day.replace(' ', '')], startt, '01:00:00', \n",
    "                       formats_insert, 'en', meeting['geometry.coordinates'][0], meeting['geometry.coordinates'][1],\n",
    "                      1, 'aleczoeller@gmail.com']\n",
    "            meetings_main.loc[len(meetings_main), :] = newline\n",
    "            init_id += 1\n",
    "    #Meetings that take place on one day only get inserted once        \n",
    "    else:\n",
    "        a = [init_id, 'meeting_name', 'Meeting Name', 'en', 0.0, mgroup, np.nan, None]\n",
    "        b = [init_id, 'location_text', 'Location Name', 'en', 0.0, location1, np.nan, None]\n",
    "        c = [init_id, 'location_street', 'Street Address', 'en', 0.0, street, np.nan, None]\n",
    "        d = [init_id, 'location_municipality', 'Town', 'en', 0.0, city, np.nan, None]\n",
    "        e = [init_id, 'location_province', 'Town', 'en', 0.0, state, np.nan, None]\n",
    "        f = [init_id, 'location_postal_code_1', 'Zip Code', 'en', 0.0, int(zipcode), np.nan, None]\n",
    "        g = [init_id, 'location_nation', 'Nation', 'en', 0.0, 'USA', np.nan, None]\n",
    "        #Each attribute gets its own line in the MySQL db\n",
    "        for newline in [a,b,c,d,e,f,g]:\n",
    "            meetings_data.loc[len(meetings_data), :] = newline\n",
    "        #Insert meeting info as single line into second table\n",
    "        t = meeting['properties.Time']\n",
    "        if t[:4].lower() == 'noon':\n",
    "            startt = '12:00:00'\n",
    "        elif t[2] == '3':\n",
    "            hour = str(12 + int(t[0])) if int(t[:1].replace(':', '')) < 10 else t[:1]\n",
    "            startt = '{}:30:00'.format(hour)\n",
    "        elif t[3]== '3':  #Irregular times here\n",
    "            hour = str(12+int(t[0])) if int(t[:1].replace(':', '')) < 10 else t[:1]\n",
    "            minute = t.split(' ')[0].split(':')[1]\n",
    "            startt = '{0}:{1}:00'.format(hour, minute)\n",
    "        else:\n",
    "            hour = str(12+int(t[0])) if int(t[:1].replace(':', '')) < 10 else t[:1]\n",
    "            startt = '{}:00:00'.format(hour)\n",
    "        serviceb = sbs[meeting['properties.Area']] if meeting['properties.Area'] in sbs.keys() else 6\n",
    "        newline = [init_id, None, None, serviceb, day_dict[day.replace(' ', '')], startt, '01:00:00', \n",
    "                   formats_insert,'en', meeting['geometry.coordinates'][0], meeting['geometry.coordinates'][1],\n",
    "                  1, 'aleczoeller@gmail.com']\n",
    "        meetings_main.loc[len(meetings_main), :] = newline\n",
    "        init_id += 1\n"
   ]
  },
  {
   "cell_type": "code",
   "execution_count": null,
   "metadata": {},
   "outputs": [],
   "source": [
    "#Clean formats for insertion into db\n",
    "meetings_main.apply(lambda x: x['formats'].replace(\"'\", \"\"), axis=1)\n",
    "\n",
    "#Insert meetings_main dataframe directly to database\n",
    "meetings_main.to_sql('na_comdef_meetings_main', con=engine, if_exists='append', index=False)"
   ]
  },
  {
   "cell_type": "code",
   "execution_count": null,
   "metadata": {},
   "outputs": [],
   "source": [
    "#Insert individual meetings data lines to db\n",
    "meetings_data.to_sql('na_comdef_meetings_data', con=engine, if_exists='append', index=False)\n",
    "#DONE!!!  Check the results for both tables in the BMLT main_server page."
   ]
  }
 ],
 "metadata": {
  "kernelspec": {
   "display_name": "Python 3",
   "language": "python",
   "name": "python3"
  },
  "language_info": {
   "codemirror_mode": {
    "name": "ipython",
    "version": 3
   },
   "file_extension": ".py",
   "mimetype": "text/x-python",
   "name": "python",
   "nbconvert_exporter": "python",
   "pygments_lexer": "ipython3",
   "version": "3.6.8"
  }
 },
 "nbformat": 4,
 "nbformat_minor": 2
}
